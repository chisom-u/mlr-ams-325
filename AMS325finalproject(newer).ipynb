{
 "cells": [
  {
   "cell_type": "markdown",
   "id": "4597a3e1-8e2e-4663-ba9b-313ff8124e2e",
   "metadata": {},
   "source": [
    "# AMS 325 Project: Part 1: Multiple Linear Regression"
   ]
  },
  {
   "cell_type": "markdown",
   "id": "7509904f-91c5-4750-a7e0-0341295b8c40",
   "metadata": {},
   "source": [
    "##  Members: Hangting Lu, Chisom Uwakwe, Kevin Coughlin"
   ]
  },
  {
   "cell_type": "markdown",
   "id": "c0a71517-e0c3-4ba1-80ab-769eb0db179d",
   "metadata": {},
   "source": [
    "### This project is aimed at assessing various students based on: no. of hours studied, previous test scores, no. of extracurricular activities, no. of hours slept, and, no. of sample tests practiced.\n",
    "\n",
    "### Using these criteria, each student is given a performance index score from 10-100 which represents the overall academic performance of the student."
   ]
  },
  {
   "cell_type": "code",
   "execution_count": null,
   "id": "ad0f80d9-4d7a-4fe7-ae5d-dd5e41c530d1",
   "metadata": {},
   "outputs": [],
   "source": [
    "import numpy as np\n",
    "import pandas as pd\n",
    "import matplotlib.pyplot as plt\n",
    "from sklearn.model_selection import train_test_split\n",
    "from sklearn.linear_model import LinearRegression\n",
    "from sklearn.metrics import mean_squared_error, r2_score\n",
    "import statsmodels.api as sm\n",
    "import statsmodels.graphics.api as smg"
   ]
  },
  {
   "cell_type": "code",
   "execution_count": null,
   "id": "2295e7df-2920-4c36-9e81-a99d8dab8499",
   "metadata": {},
   "outputs": [],
   "source": [
    "# Reads the downloaded dataframe from the dataset and makes adjustments to be callable in Python\n",
    "df_stud = pd.read_csv(\"C:\\\\Users\\\\chiso\\\\OneDrive\\\\Documents\\\\540256\\\\Student_Performance.csv\")\n",
    "df_stud.rename(columns={\n",
    "    'Hours Studied': 'Hours_Studied',\n",
    "    'Previous Scores': 'Previous_Scores',\n",
    "    'Extracurricular Activities': 'Extracurriculars',\n",
    "    'Sleep Hours': 'Sleep_Hours',\n",
    "    'Sample Question Papers Practiced': 'Samples_Practiced',\n",
    "    'Performance Index': 'Performance_Index'    \n",
    "}, inplace=True)\n",
    "\n",
    "print(df_stud.info()); print(df_stud.min()); print(df_stud.max())\n"
   ]
  },
  {
   "cell_type": "code",
   "execution_count": null,
   "id": "13aa97a7-8366-40c0-a365-2a36fb0e18f5",
   "metadata": {},
   "outputs": [],
   "source": [
    "df_sub = df_stud.drop(columns=[\"Extracurriculars\"])\n",
    "df_sub.head(5)"
   ]
  },
  {
   "cell_type": "code",
   "execution_count": null,
   "id": "bb2492bd-d264-49e4-aaee-e675858293db",
   "metadata": {},
   "outputs": [],
   "source": [
    "# Defines the independent variables (X) and dependent variable (y)\n",
    "X = df_sub.drop(columns=[\"Performance_Index\"])\n",
    "X = sm.add_constant(X)  # Adds a constant term to the model\n",
    "y = df_sub[\"Performance_Index\"]\n",
    "\n",
    "# Performs OLS regression\n",
    "model = sm.OLS(y, X).fit()\n",
    "\n",
    "# Displays the summary\n",
    "print(model.summary())"
   ]
  },
  {
   "cell_type": "code",
   "execution_count": null,
   "id": "c925de14-eccd-4952-a4cd-f52b96535f88",
   "metadata": {},
   "outputs": [],
   "source": [
    "# Uses qqplot to check normality (should be linear)\n",
    "fig, ax = plt.subplots(figsize=(8, 4))\n",
    "smg.qqplot(model.resid, ax=ax)\n",
    "fig.tight_layout()"
   ]
  },
  {
   "cell_type": "code",
   "execution_count": null,
   "id": "5022f869-7ed3-46d3-b21e-b2b6c5fa2ef1",
   "metadata": {},
   "outputs": [],
   "source": [
    "# Extracts the coefficients\n",
    "coefficients = model.params\n",
    "\n",
    "# Displays the model equation\n",
    "model_equation = \"Performance Index = \" + \" + \".join([f\"{coeff:.2f}*{col}\" if col != \"const\" else f\"{coeff:.2f}\" \n",
    "                                                      for col, coeff in coefficients.items()])\n",
    "print(\"Model Equation:\")\n",
    "print(model_equation)\n",
    "print(f\"R squared value is {model.rsquared}.\")"
   ]
  },
  {
   "cell_type": "code",
   "execution_count": null,
   "id": "451ef158-6710-423c-ab4c-be06af0f367a",
   "metadata": {},
   "outputs": [],
   "source": [
    "# Splits the data into training and testing sets and removes the constant row.\n",
    "X=X.drop('const', axis=1)\n",
    "X_train, X_test, y_train, y_test = train_test_split(X, y, test_size=0.2, random_state=42)"
   ]
  },
  {
   "cell_type": "code",
   "execution_count": null,
   "id": "43a190d6-d47a-4861-b348-ec8a5d8cf577",
   "metadata": {},
   "outputs": [],
   "source": [
    "#Creates a linear regression model and train it\n",
    "lm = LinearRegression(fit_intercept=True)\n",
    "lm.fit(X_train, y_train)"
   ]
  },
  {
   "cell_type": "code",
   "execution_count": null,
   "id": "a37f044d-bed7-4f88-8826-81b0373020f5",
   "metadata": {},
   "outputs": [],
   "source": [
    "#Makes predictions based on the trained model\n",
    "y_pred = lm.predict(X_test)"
   ]
  },
  {
   "cell_type": "code",
   "execution_count": null,
   "id": "4b53a7a5-a9ef-4dc7-ac85-e35730862595",
   "metadata": {},
   "outputs": [],
   "source": [
    "#Visualizes the predictions\n",
    "plt.scatter(y_test, y_pred)\n",
    "plt.xlabel(\"True values\")\n",
    "plt.ylabel(\"Predicted values\")\n",
    "plt.title(\"True vs Predicted performance index scores\")\n",
    "plt.show()"
   ]
  },
  {
   "cell_type": "code",
   "execution_count": null,
   "id": "b7802e52-62e5-4d00-9508-20d6e3f88323",
   "metadata": {},
   "outputs": [],
   "source": [
    "print(\"Intercept:\", lm.intercept_)\n",
    "print(\"Coefficients:\", lm.coef_)"
   ]
  },
  {
   "cell_type": "markdown",
   "id": "3c2b42f6-096f-4429-a7c5-4bf18e47fde3",
   "metadata": {},
   "source": [
    "# What's Your PI"
   ]
  },
  {
   "cell_type": "code",
   "execution_count": null,
   "id": "1d2873a1-b682-4ee9-8180-7666d038f9ad",
   "metadata": {},
   "outputs": [],
   "source": [
    "coefficients"
   ]
  },
  {
   "cell_type": "code",
   "execution_count": null,
   "id": "5443f6e9-1b05-480a-a7a0-0ebdc89a2bec",
   "metadata": {},
   "outputs": [],
   "source": [
    "import tkinter as tk\n",
    "from tkinter import messagebox"
   ]
  },
  {
   "cell_type": "code",
   "execution_count": null,
   "id": "452348fb-bac4-49bf-a7fc-9e204a1151c8",
   "metadata": {},
   "outputs": [],
   "source": [
    "# Model coefficients\n",
    "intercept = coefficients['const']\n",
    "coef_weekly_study = coefficients['Hours_Studied']\n",
    "coef_previous_scores = coefficients['Previous_Scores']\n",
    "coef_sleep_hours = coefficients['Sleep_Hours']\n",
    "coef_samples_practiced = coefficients['Samples_Practiced']"
   ]
  },
  {
   "cell_type": "code",
   "execution_count": null,
   "id": "9619bbd0-8674-4b88-ac0c-5e032b7c3c90",
   "metadata": {},
   "outputs": [],
   "source": [
    "# Function to calculate Performance Index\n",
    "def calculate_performance_index():\n",
    "    try:\n",
    "        weekly_study = float(entry_hours_studied.get())\n",
    "        hours_studied = float(weekly_study/7)\n",
    "        previous_scores = float(entry_previous_scores.get())\n",
    "        sleep_hours = float(entry_sleep_hours.get())\n",
    "        samples_practiced = float(entry_samples_practiced.get())\n",
    "        \n",
    "        # Validate that the sum of hours studied and sleep hours doesn't exceed 24\n",
    "        if hours_studied + sleep_hours > 24:\n",
    "            messagebox.showerror(\"Invalid Input\", \"The sum of Hours Studied and Sleep Hours cannot exceed 24 hours.\")\n",
    "            return\n",
    "        \n",
    "        # Calculating Performance Index based on the model equation\n",
    "        performance_index = intercept + (coef_weekly_study * weekly_study) + \\\n",
    "                            (coef_previous_scores * previous_scores) + \\\n",
    "                            (coef_sleep_hours * sleep_hours) + \\\n",
    "                            (coef_samples_practiced * samples_practiced)\n",
    "        \n",
    "        # Displaying the result in the label\n",
    "        label_result.config(text=f'Predicted Performance Index: {performance_index:.2f}')\n",
    "        # Adding the performance index limit\n",
    "        if performance_index >= 100:\n",
    "            performance_index = 100\n",
    "            messagebox.showinfo(\"Max Rating\", \"Max rating achieved!\")\n",
    "\n",
    "    \n",
    "    except ValueError:\n",
    "        messagebox.showerror(\"Invalid Input\", \"Please enter valid numeric values.\")"
   ]
  },
  {
   "cell_type": "code",
   "execution_count": null,
   "id": "dbf1834a-5f86-4005-81eb-fedc4a1e8d43",
   "metadata": {},
   "outputs": [],
   "source": [
    "# Setting up the main window\n",
    "root = tk.Tk()\n",
    "root.title(\"Student Performance Index Prediction\")\n",
    "\n",
    "# Creating input labels and fields\n",
    "label_hours_studied = tk.Label(root, text=\"Enter Hours Studied per Week:\")\n",
    "label_hours_studied.grid(row=0, column=0, padx=10, pady=5)\n",
    "entry_hours_studied = tk.Entry(root)\n",
    "entry_hours_studied.grid(row=0, column=1, padx=10, pady=5)\n",
    "\n",
    "label_previous_scores = tk.Label(root, text=\"Enter Previous Test Scores:\")\n",
    "label_previous_scores.grid(row=1, column=0, padx=10, pady=5)\n",
    "entry_previous_scores = tk.Entry(root)\n",
    "entry_previous_scores.grid(row=1, column=1, padx=10, pady=5)\n",
    "\n",
    "label_sleep_hours = tk.Label(root, text=\"Enter Hours of Sleep per Night:\")\n",
    "label_sleep_hours.grid(row=2, column=0, padx=10, pady=5)\n",
    "entry_sleep_hours = tk.Entry(root)\n",
    "entry_sleep_hours.grid(row=2, column=1, padx=10, pady=5)\n",
    "\n",
    "label_samples_practiced = tk.Label(root, text=\"Enter Number of Sample Tests Practiced:\")\n",
    "label_samples_practiced.grid(row=3, column=0, padx=10, pady=5)\n",
    "entry_samples_practiced = tk.Entry(root)\n",
    "entry_samples_practiced.grid(row=3, column=1, padx=10, pady=5)"
   ]
  },
  {
   "cell_type": "code",
   "execution_count": null,
   "id": "1bfd992b-bbe8-4ac2-bce6-ae0e25899dc9",
   "metadata": {},
   "outputs": [],
   "source": [
    "# Button to calculate the Performance Index\n",
    "button_calculate = tk.Button(root, text=\"Calculate Performance Index\", command=calculate_performance_index)\n",
    "button_calculate.grid(row=4, column=0, columnspan=2, pady=10)\n",
    "\n",
    "# Label to display the result\n",
    "label_result = tk.Label(root, text=\"Predicted Performance Index: \")\n",
    "label_result.grid(row=5, column=0, columnspan=2, pady=10)\n",
    "\n",
    "# Start the Tkinter event loop\n",
    "root.mainloop()"
   ]
  }
 ],
 "metadata": {
  "kernelspec": {
   "display_name": "Python 3 (ipykernel)",
   "language": "python",
   "name": "python3"
  },
  "language_info": {
   "codemirror_mode": {
    "name": "ipython",
    "version": 3
   },
   "file_extension": ".py",
   "mimetype": "text/x-python",
   "name": "python",
   "nbconvert_exporter": "python",
   "pygments_lexer": "ipython3",
   "version": "3.12.4"
  }
 },
 "nbformat": 4,
 "nbformat_minor": 5
}
