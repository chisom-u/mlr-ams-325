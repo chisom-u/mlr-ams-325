{
  "nbformat": 4,
  "nbformat_minor": 0,
  "metadata": {
    "colab": {
      "provenance": [],
      "include_colab_link": true
    },
    "kernelspec": {
      "name": "python3",
      "display_name": "Python 3"
    },
    "language_info": {
      "name": "python"
    }
  },
  "cells": [
    {
      "cell_type": "markdown",
      "metadata": {
        "id": "view-in-github",
        "colab_type": "text"
      },
      "source": [
        "<a href=\"https://colab.research.google.com/github/chisom-u/mlr-ams-325/blob/main/Chisom_Uwakwe_lin335_hw1_trial.ipynb\" target=\"_parent\"><img src=\"https://colab.research.google.com/assets/colab-badge.svg\" alt=\"Open In Colab\"/></a>"
      ]
    },
    {
      "cell_type": "markdown",
      "source": [
        "# Assignment 1 Trial Run - A pronunciation corpus\n",
        "\n",
        "## Background: Assignment format for this course\n",
        "\n",
        "This is the **trial run** of the first assignment for LIN 335 *Computational Linguistics*.\n",
        "With a trial run, you have one (1) week to try to solve the assignment, with the expectation that the average student won't fully succeed.\n",
        "You should try to do the trial run entirely on your own, with no assistance from anybody else.\n",
        "The trial run won't be graded on correctness, just on whether you gave it an honest try.\n",
        "If you did give it a try, you get 1 point.\n",
        "\n",
        "The week after that, you get one more attempt to solve the assignment.\n",
        "This is called the **assisted run**.\n",
        "For the final run, you will usually get some additional hints from me, and you are also allowed to use any other tools or resources (ChatGPT, Github Copilot, discussing it with friends and class mates).\n",
        "With all that help, you should be able to complete the assignment, which is again worth 1 point.\n",
        "\n",
        "As part of the assisted run, you will usually be asked to do some additional reflecting on what you have done and what you have learned in the process.\n",
        "This is called the **post mortem**.\n",
        "This will usually involve two separate tasks, each one of which is worth 1 point.\n",
        "You will learn more about all of that when the document for the assisted run is shared with you.\n",
        "\n",
        "The general idea is to foster a culture of **productive failure**.\n",
        "First you try and push yourself as far as you can get yourself (trial run, 1 point), then you get help to finish the task (assisted run, 1 point), and then you contrast the experience of the trial run against the assisted run in order to gain a deeper understanding of the subject (post mortem, ~2 points).\n",
        "\n",
        "Alright, that's enough of a preface, let's get cracking!"
      ],
      "metadata": {
        "id": "57CR6qDz7T-0"
      }
    },
    {
      "cell_type": "markdown",
      "source": [
        "## First steps\n",
        "\n",
        "1. Make sure that at the top of you can see the Colab menu bar at the top, with entries like `File`, `Edit`, `View`, and so on. If you don't see it, there should be a v-like arrow in the top right corner. Click it to reveal the menu.\n",
        "\n",
        "1. Click on `File`, then `Save a copy in Drive`. This will open a new tab with a copy of this notebook. You can modify and edit this copy any way you like. Make sure to make all your changes in the copy, and don't forget to `Save`."
      ],
      "metadata": {
        "id": "ImImfCkv_mAw"
      }
    },
    {
      "cell_type": "markdown",
      "source": [
        "## Your task: Phonetic transcription of the Switchboard corpus\n",
        "\n",
        "The switchboard corpus collects recordings of phone conversations.\n",
        "It consists of sounds files (omitted in NLTK) and their transcriptions into English.\n",
        "Curiously absent is a phonetic transcription, which would tell us how each word is pronounced.\n",
        "This could be useful for training text-to-speech and/or voice recognition systems, which is in fact what the Switchboard corpus was created for.\n",
        "Producing phonetic transcriptions would be a very laborious task, but we will try to produce a simple approximation.\n",
        "\n",
        "If you know what to do, this assignment can be solved in less than five minutes with just a few lines of code.\n",
        "But odds are that you don't know what to do and will have to spend some time to even figure out what the relevant building blocks are, let alone how they fit together."
      ],
      "metadata": {
        "id": "2AJZ2vKxA_6Q"
      }
    },
    {
      "cell_type": "markdown",
      "source": [
        "## Step 1: Setup\n",
        "\n",
        "First, you have to install a few corpora.\n",
        "We will be using the [switchboard corpus](https://www.nltk.org/api/nltk.corpus.reader.switchboard.html) and the [Carnegie Mellon Pronouncing Dictionary](https://www.nltk.org/api/nltk.corpus.reader.cmudict.html).\n",
        "Click the links above to see their documentations in NLTK (you'll probably want to check those at various points throughout the assignment).\n",
        "Then run the necessary code to [install those two corpora](https://www.nltk.org/data.html)."
      ],
      "metadata": {
        "id": "cVy4rPmgB-us"
      }
    },
    {
      "cell_type": "code",
      "source": [
        "# I've already added the command for installing the Carnegie Mellon Pronouncing Dictionary\n",
        "import nltk\n",
        "nltk.download(\"cmudict\")\n",
        "# add the code to download the Switchboard corpus\n",
        "from nltk.corpus import switchboard\n",
        "nltk.download(\"switchboard\")"
      ],
      "metadata": {
        "id": "EeLAqmiaB96U",
        "colab": {
          "base_uri": "https://localhost:8080/"
        },
        "outputId": "434b6d9a-e471-413f-a9ad-651583eec30b"
      },
      "execution_count": 55,
      "outputs": [
        {
          "output_type": "stream",
          "name": "stderr",
          "text": [
            "[nltk_data] Downloading package cmudict to /root/nltk_data...\n",
            "[nltk_data]   Package cmudict is already up-to-date!\n",
            "[nltk_data] Downloading package switchboard to /root/nltk_data...\n",
            "[nltk_data]   Package switchboard is already up-to-date!\n"
          ]
        },
        {
          "output_type": "execute_result",
          "data": {
            "text/plain": [
              "True"
            ]
          },
          "metadata": {},
          "execution_count": 55
        }
      ]
    },
    {
      "cell_type": "markdown",
      "source": [
        "And of course you also have to load them."
      ],
      "metadata": {
        "id": "tEtRv4jQDgBL"
      }
    },
    {
      "cell_type": "code",
      "source": [
        "# if you don't know how load an nltk corpus, check the handout from the corpora lecture"
      ],
      "metadata": {
        "id": "fWnIMpNHAzmT"
      },
      "execution_count": 56,
      "outputs": []
    },
    {
      "cell_type": "markdown",
      "source": [
        "## Step 2: Playing around\n",
        "\n",
        "Read the documentation of those corpora and play around with them to see what kind of output you get from the methods mentioned in the documentation.\n",
        "\n",
        "Here's a few things you might want to figure out:\n",
        "\n",
        "- What is the difference between `.discourses()`, `.turns()`, and `.tagged_turns()` for `switchboard`?\n",
        "- How do you pick out the 2nd discourse in `switchboard`?\n",
        "- How do you pick out the first word of the first turn of the 2nd discourse in `switchboard`?\n",
        "- What is the difference between `.dict()`, `.entries()` and `.words()` for `cmudict`?\n",
        "- How do you get the pronunciation of *resume*? Why are there multiple pronunciations?\n",
        "- What is the pronuncation of *the* compared to *THE*? What can you infer from that?\n",
        "- What is the role of `0`, `1`, and `2` in the pronunciations?\n"
      ],
      "metadata": {
        "id": "Nk4WSqi5EJe9"
      }
    },
    {
      "cell_type": "code",
      "execution_count": 57,
      "metadata": {
        "id": "pCSfxnXu7Kjx",
        "colab": {
          "base_uri": "https://localhost:8080/"
        },
        "outputId": "7faf88d6-61f2-4405-bdb5-952713bdeb77"
      },
      "outputs": [
        {
          "output_type": "stream",
          "name": "stdout",
          "text": [
            "[<A.1: 'Uh , do you have a pet Randy ?'>, <B.2: 'Uh , yeah , currently we have a poodle .'>, <A.3: 'A poodle , miniature or , uh , full size ?'>, <B.4: \"Yeah , uh , it 's , uh miniature .\">, <A.5: 'Uh-huh .'>, <B.6: 'Yeah .'>, <A.7: 'I read somewhere that , the poodles is one of the , the most intelligent dogs , uh , around .'>, <B.8: \"Well , um , I would n't , uh , I definitely would n't dispute that , it , it 's actually my wife 's dog , uh , I , I became part owner six months ago when we got married , but , uh , it , uh , definitely responds to , uh , to authority and , I 've had dogs in the past and , uh , it seems , it seems to , uh , respond real well , it , it she 's , she 's picked up a lot of things , uh , just , just by , uh , teaching by force , I guess is what I 'd like to say .\">, <A.9: \"Oh , uh-huh . So , you , you 've only known the dog , wh- , how long did you say .\">, <B.10: 'Well , about a year I guess .'>, <A.11: 'Oh , well , uh , is it , uh , uh , how old is the dog ?'>, <B.12: 'It just turned two , I believe .'>, <A.13: \"Oh , it 's still just a pup .\">, <B.14: 'Pretty much , yeah , yeah .'>, <A.15: 'Yeah , I have a , uh , well a mutt , myself . I call it a , uh , uh , Chowperd .'>, <B.16: 'Okay .'>, <A.17: \"It 's , uh , part Chow and part Shepherd and it , as I understand it , uh , both sides of the , were thoroughbreds . So , she 's a genuine Chowperd .\">, <B.18: 'Oh , that sounds interesting .'>, <A.19: 'She has the , the color and the black to- , tongue of a Chow , but , uh , she has the shap- , the shape of the , uh , uh , Shepherd .'>, <B.20: \"Oh , that 's , that 's neat . How , about how big then ?\">, <A.21: \"Oh , she weighs in at about fifty pounds , so she 's a medium size .\">, <B.22: 'Yeah , yeah .'>, <A.23: \"But she 's big enough to be intimidating ,\">, <B.24: 'Most definitely .'>, <A.25: 'it is a fi , fixed female , by the way ,'>, <B.26: 'Yeah .'>, <A.27: 'and right from day one , she was teaching me .'>, <B.28: \"Oh , I would n't doubt it , yeah .\">, <A.29: \"She 's the most intelligent dog I 've ever seen . Course , I 'm a little prejudiced , of course .\">, <B.30: \"Well that 's understandable , yeah , it 's , uh ,\">, <A.31: 'You know , the first time I brought her home , she was only , uh , was it six weeks old . And I spread the newspapers out in the kitchen area .'>, <B.32: 'Uh-huh .'>, <A.33: 'But , uh , next morning , she let me know in no uncertain terms that she wanted to use the bathroom .'>, <B.34: 'Okay .'>, <A.35: 'So , on next night , I spread the newspaper in the bathroom and she used them there .'>, <B.36: 'Oh .'>, <A.37: \"But it was n't too long until she , uh , found out she could wait until I let her out in the morning .\">, <B.38: 'Yeah .'>, <A.39: 'And since then , I , I live alone ,'>, <B.40: 'Okay .'>, <A.41: \"and , uh , I live in motor home , by the way , I 'm , uh , an R V , full time R V -er , and it 's , it 's such a pleasure to come home at night and you can see her smiling from ear to ear , she 's so happy to see me .\">, <B.42: 'Yeah , definitely .'>, <A.43: \"And , uh , I do n't know if you get that kind of greeting or not .\">, <B.44: \"Yeah , I can honestly say we do , uh , we , uh , just recently put a security system in our house and so now , uh , in order to , uh , to accommodate the motion detectors we have to keep her , uh , uh , locked up in the , the master bedroom during the day and then she 's got the , the bedroom and the bathroom to , for free run during the day but ,\">, <A.45: 'Uh-huh .'>, <B.46: \"we 've always got , uh , got a nose and tongue pressed up against the window when we come walking up to the front door .\">, <A.47: '.'>, <B.48: \"She 's definitely ready to get out and run around .\">, <A.49: \"Well my dog 's an outdoor type , she does not like to be indoors .\">, <B.50: 'Really .'>, <A.51: \"Uh , she 'd rather sle , sleep outside on the , the cold ground at night .\">, <B.52: 'Oh wow .'>, <A.53: 'But , uh , I do make her come in .'>, <B.54: 'Yeah .'>, <A.55: \"And I feed her indoors , that 's to lure her in , but during the day I have her on a , uh , on a leash ,\">, <B.56: 'Okay .'>, <A.57: 'which is , uh , on sort of a run . I have a , a thirty foot cable ,'>, <B.58: 'Okay .'>, <A.59: 'running from one stake to another , and then attached to that is a , uh , twelve foot leash ,'>, <B.60: 'Okay .'>, <A.61: 'so she can cover quite an area .'>, <B.62: 'Most definitely .'>, <A.63: \"And , uh , she 's the best , uh , burglar alarm going .\">, <B.64: \"Yeah , yeah , yeah that 's , uh , definite security involved in , uh , in a dog like that .\">, <A.65: \"Oh , yeah , she , uh , it 's the strangest thing , though , uh , children , no matter how strange they are , or how new they might be can walk , uh , right up to her ,\">, <B.66: 'Uh-huh .'>, <A.67: \"but adults , if they 're strange to her , or , or they look suspicious or something , boy she acts like she wants to chew their leg off .\">, <B.68: 'Wow .'>, <A.69: 'And I have not discovered yet where the , the line is between children and adults .'>, <B.70: \"Yeah , that 's interesting .\">, <A.71: 'But , uh , she is a great comfort to me .'>, <B.72: \"Yeah , I know our dog has had , uh , some different reactions , she 's never really been around children and , uh , if , if the child is , is pretty straight forward , um , she 's fine . If , if a child is a little intimidated , she 'll jump around and , and yip and bark quite a bit , and if the child gets scared , uh , she 's still trying to play , but she does n't completely understand what 's going on and we 've had a little confusion with , with , uh , with younger kids .\">, <A.73: 'Uh-huh .'>, <B.74: \"But , uh , you know , that 's , it 's a matter of exposure really . Um , we , uh , took her home to , uh , my family 's place in South Dakota , and she was the one that was intimidated then . There was about seven kids ranging from about , uh , three years to ten years running around the house all at one time ,\">, <A.75: 'Oh , uh-huh .'>, <B.76: \"you know come to visit Grandpa and Grandma and , the dog kind of , kind of felt out of place then because she was , she was being fed , and everything else from all directions . She really did n't know how to handle herself .\">, <A.77: \"You mean she did n't appreciate all that attention .\">, <B.78: \"She really did , she just , uh , she , she was alm- , she was just inundated with , with all the attention . Uh , she , she kind of , she kind of sat and MUMBLEx it all in for a little while and then she 'd go get back in and try to play and , and what not , but , uh , it was , it was just such a , such a new experience for her . She 's only been around one and , and sometimes two people at the most so , uh .\">, <A.79: \"Uh-huh . What 's her name by the way ?\">, <B.80: 'Uh , pardon ?'>, <A.81: 'What , what do you call the dog ?'>, <B.82: \"Oh , it 's , uh , Mitzi .\">, <A.83: 'Mitzi .'>, <B.84: 'Yeah .'>, <A.85: 'Mine is Gin .'>, <B.86: 'Oh , okay .'>, <A.87: 'As in , uh , martini .'>, <B.88: 'Yeah .'>, <A.89: \"Actually , it 's Gin two .\">, <B.90: 'I , I see .'>, <A.91: \"Because , uh , when I was a teenager , in high school , I had Gin one , but then when I went out in the world , I could n't take her with me .\">, <B.92: 'Yeah , yeah , yeah , I had , uh , a similar , uh , experience . I , I grew up on a farm so I always had , uh , outdoor pets and ,'>, <A.93: 'Uh-huh .'>, <B.94: 'uh , the dog I had when I moved to Dallas about five years ago was a , uh , Springer Spaniel , black Lab cross . And he was a real , a real lovable type ,'>, <A.95: 'Oh yeah .'>, <B.96: 'but , uh , definitely not an apartment type animal so he , uh , he had to stay home .'>, <A.97: 'Oh , what a shame .'>, <B.98: 'Yeah , yeah , it really was . He , uh , apparently had a tough time with it for a little while and then he , he got , he came to accept the fact that Mom and Dad were his company from then on , but , uh .'>, <A.99: 'Uh-huh , oh well .'>, <B.100: 'Yeah .'>, <A.101: \"Well Randy , we 've just about used up our time here ,\">, <B.102: 'Okay .'>, <A.103: 'and I must say it was interesting .'>, <B.104: 'Most definitely .'>, <A.105: 'I enjoyed talking about pets with you .'>, <B.106: \"Well that 's great .\">, <A.107: \"Maybe we 'll get together again in the future .\">, <B.108: 'That sounds real good .'>, <A.109: 'Take care now .'>, <B.110: 'You too .'>, <A.111: 'Bye .'>]\n",
            "<A.1: 'Uh , do you have a pet Randy ?'>\n",
            "<A.1: 'Uh/UH ,/, do/VBP you/PRP have/VB a/DT pet/NN Randy/NNP ?/.'>\n",
            "Yes\n"
          ]
        }
      ],
      "source": [
        "# this is a scratch pad for playing around with the corpora;\n",
        "# you can put anything here you want\n",
        "import pprint\n",
        "discourses = switchboard.discourses()      # returns entire conversations as a list of utterances,\n",
        "turns = switchboard.turns()                # returns individual speaker turns within discourse\n",
        "tagged_turns = switchboard.tagged_turns()  # returns .turns() with parts of speech tagging\n",
        "\n",
        "second_discourse = switchboard.discourses()[1]\n",
        "first_turn = second_discourse[0]\n",
        "first_word = first_turn[0]\n",
        "\n",
        "print(discourses[0])\n",
        "print(turns[0])\n",
        "print(tagged_turns[0])\n",
        "\n",
        "print(first_word)"
      ]
    },
    {
      "cell_type": "code",
      "source": [
        "from nltk.corpus import cmudict\n",
        "pron = cmudict.dict()\n",
        "print(pron[\"the\"])\n",
        "print(pron[\"a\"])\n",
        "\n",
        "# print(pron[\"THE\"]) # doesn't work on uppercase, must be ALL lowercase\n",
        "print(pron[\"resume\"])\n",
        "# 0 is unstressed syllable, 1 is primary stressed syllabe, 2 is secondary stressed syllable\n",
        "\n",
        "\n",
        "entries = cmudict.entries()\n",
        "print(entries[:5])\n",
        "\n",
        "words = cmudict.words()\n",
        "print(\"water\" in words)\n",
        "print(\"hello\" in words)\n",
        "print(\"jaigry\" in words)\n"
      ],
      "metadata": {
        "id": "KldGKhGp8Fsw",
        "colab": {
          "base_uri": "https://localhost:8080/"
        },
        "outputId": "8eba8964-6508-4045-94d4-787a6c0b7254"
      },
      "execution_count": 58,
      "outputs": [
        {
          "output_type": "stream",
          "name": "stdout",
          "text": [
            "[['DH', 'AH0'], ['DH', 'AH1'], ['DH', 'IY0']]\n",
            "[['AH0'], ['EY1']]\n",
            "[['R', 'IH0', 'Z', 'UW1', 'M'], ['R', 'IY0', 'Z', 'UW1', 'M'], ['R', 'EH1', 'Z', 'AH0', 'M', 'EY2']]\n",
            "[('a', ['AH0']), ('a.', ['EY1']), ('a', ['EY1']), ('a42128', ['EY1', 'F', 'AO1', 'R', 'T', 'UW1', 'W', 'AH1', 'N', 'T', 'UW1', 'EY1', 'T']), ('aaa', ['T', 'R', 'IH2', 'P', 'AH0', 'L', 'EY1'])]\n",
            "True\n",
            "True\n",
            "False\n"
          ]
        }
      ]
    },
    {
      "cell_type": "markdown",
      "source": [
        "## Step 3: Your task (for real, this time)\n",
        "\n",
        "Write a function that takes a sentence from the switchboard corpus and returns its pronunciation as a list of pronunciation tokens, with punctuation omitted. When there are multiple pronuncations, adopt the following principle:\n",
        "\n",
        "1.  For *a*, the choice is determined by the next word:\n",
        "    - `AH0` if the pronunciation of the next word starts with a consonant,\n",
        "    - `EY1` if the pronunciatoin of the next word starts with a vowel.\n",
        "1. For *the*, the choice is determined by the next word:\n",
        "  - `DHAH0` if the pronunciation of the next word starts with a consonant,\n",
        "  - `DHIY0` if the pronunciation of the next word starts with a vowel.\n",
        "1. For all other words, pick the first pronunciation.\n",
        "\n",
        "For example, the very first sentence of the switchboard corpus should have the output\n",
        "\n",
        "```\n",
        "['AH1', 'DUW1', 'YUW1', 'HHAE1V', 'AH0', 'PEH1T', 'RAE1NDIY0']\n",
        "```\n",
        "\n",
        "Also, think about how you want to handle cases where a word does not have a pronunciation."
      ],
      "metadata": {
        "id": "5ChOFlncEuvT"
      }
    },
    {
      "cell_type": "code",
      "source": [
        "def text2pronunciation(sentence):\n",
        "    # fill in the missing code\n",
        "    pronounce = cmudict.dict()\n",
        "    pronunciation = []\n",
        "\n",
        "    for word in sentence:\n",
        "\n",
        "      if word.lower() in pronounce:\n",
        "        sounds = pronounce[word.lower()][0]\n",
        "      else:\n",
        "        sounds = [word.lower()]\n",
        "\n",
        "      new_sounds = \"\".join(sounds)\n",
        "      pronunciation.append(new_sounds)\n",
        "\n",
        "    return pronunciation"
      ],
      "metadata": {
        "id": "b9srcYy9LktQ"
      },
      "execution_count": 59,
      "outputs": []
    },
    {
      "cell_type": "code",
      "source": [
        "print(text2pronunciation(turns[0]))\n"
      ],
      "metadata": {
        "id": "36dD9IdXInZP",
        "colab": {
          "base_uri": "https://localhost:8080/"
        },
        "outputId": "642b133e-57df-455a-e154-9400d3a46d50"
      },
      "execution_count": 60,
      "outputs": [
        {
          "output_type": "stream",
          "name": "stdout",
          "text": [
            "['AH1', ',', 'DUW1', 'YUW1', 'HHAE1V', 'AH0', 'PEH1T', 'RAE1NDIY0', '?']\n"
          ]
        }
      ]
    },
    {
      "cell_type": "markdown",
      "source": [
        "Now write another function that takes an integer `i` and feeds each sentence of the switchboard corpus into `text2pronunciation`, starting with the first one.\n",
        "Each output is added to a list until `i` turns have been processed, at which point the list is returned."
      ],
      "metadata": {
        "id": "xb-8FTWYXlme"
      }
    },
    {
      "cell_type": "code",
      "source": [
        "def batch_process(i):\n",
        "    # fill in the missing code\n",
        "    count = 0\n",
        "    list_of_pronunciations = []\n",
        "    sentence = switchboard.turns()\n",
        "\n",
        "    while count < i:\n",
        "      new_list = \" \".join(text2pronunciation(sentence[count]))\n",
        "      count += 1\n",
        "      list_of_pronunciations.append(new_list)\n",
        "\n",
        "    return list_of_pronunciations"
      ],
      "metadata": {
        "id": "8s0KHaMqXkgW"
      },
      "execution_count": 61,
      "outputs": []
    },
    {
      "cell_type": "code",
      "source": [
        "print(batch_process(3))"
      ],
      "metadata": {
        "id": "ONNQE3fEZ4gj",
        "colab": {
          "base_uri": "https://localhost:8080/"
        },
        "outputId": "210bb129-5f01-4679-e62b-6bc469e51a47"
      },
      "execution_count": 62,
      "outputs": [
        {
          "output_type": "stream",
          "name": "stdout",
          "text": [
            "['AH1 , DUW1 YUW1 HHAE1V AH0 PEH1T RAE1NDIY0 ?', 'AH1 , YAE1 , KER1AH0NTLIY0 WIY1 HHAE1V AH0 PUW1DAH0L .', 'AH0 PUW1DAH0L , MIH1NIY0AH0CHUH2R AO1R , AH1 , FUH1L SAY1Z ?']\n"
          ]
        }
      ]
    },
    {
      "cell_type": "markdown",
      "source": [
        "## Step 4: Submission\n",
        "\n",
        "We will be using [GitHub](https://github.com/) for submitting assignments.\n",
        "We will learn more about this later in the semester, for now just follow the instructions below:\n",
        "\n",
        "1. If you don't have an account yet, go to <https://github.com/> and create one.\n",
        "1. Create a **private** repository (not a public one).\n",
        "   Call it `lin335_firstname_lastname`, replacing `firstname` and `lastname` with your first and last name, respectively.\n",
        "1. Switch back to Google Colab, select `File` and then `Save a copy in GitHub`. Login if asked to do so, and grant Colab access. You will get a dialog where you can choose the repository. Pick the one you created above. Leave everything as is and hit OK.\n",
        "1. Go back to your Github repository. Once you hit refresh, you should see the notebook in the repository. You can click on it to view it on Github. This will be exactly what your notebook will look like to us when we grade it.\n",
        "1. There's one more, crucial step. Since your repository is private, only you can view it. You will have to give us access. In the repository, click on `Settings` in the top bar, then on `Collaborators and teams` in the left sidebar. Click the green button that says `Add people`, then add the usernames that are specified in the Brightspace announcement for this assignment. When asked for the level of access, pick `Write`."
      ],
      "metadata": {
        "id": "QXVoYY8KMP_K"
      }
    },
    {
      "cell_type": "markdown",
      "source": [
        "## Best of luck, and have fun!"
      ],
      "metadata": {
        "id": "1Hp-Xv56Qk_-"
      }
    }
  ]
}